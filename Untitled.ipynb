{
 "cells": [
  {
   "cell_type": "markdown",
   "id": "00b7cff0-2335-437c-887c-23988dd20f4b",
   "metadata": {},
   "source": [
    "QUIZ 2"
   ]
  },
  {
   "cell_type": "code",
   "execution_count": 1,
   "id": "06723af1-888d-4922-b238-db217d7d0c18",
   "metadata": {},
   "outputs": [],
   "source": [
    "university = \"Northeastern\""
   ]
  },
  {
   "cell_type": "markdown",
   "id": "0e23dd3c-f11e-41a7-99d9-a742d3a4ae3b",
   "metadata": {},
   "source": [
    "`2. Write a Python program that takes two numbers, a and b , as input and prints their sum, difference, product, and\r\n",
    "quotient`."
   ]
  },
  {
   "cell_type": "code",
   "execution_count": null,
   "id": "79c1133f-f2e0-4886-b05d-5ea12e7277f2",
   "metadata": {},
   "outputs": [],
   "source": [
    "a= int(input())\n",
    "b=int(input())\n",
    "#sum\n",
    "sum =a+b\n",
    "#difference\n",
    "difference_ab = a-b\n",
    "#product\n",
    "product_ab=a*b\n",
    "#quotient\n",
    "quotient = a/b\n",
    "\n",
    "print(f\"sum of a and b: {sum}\")\n",
    "print(f\"difference of a and b: {difference_ab}\")\n",
    "print(f\"product of a and b: {product_ab}\")\n",
    "print(f\"quotient of a and b: {quotient}\")\n"
   ]
  },
  {
   "cell_type": "markdown",
   "id": "0b48d5e4-a527-4c61-898b-558cd4156c22",
   "metadata": {},
   "source": [
    ". Create a list named fruits containing the elements \"apple\" , \"banana\" , and \"cherry\" . Add \"orange\" to\n",
    "the list and print the updated list.\n"
   ]
  },
  {
   "cell_type": "code",
   "execution_count": 15,
   "id": "e799544d-faf2-47ff-9ebe-6ca928927428",
   "metadata": {},
   "outputs": [
    {
     "name": "stdout",
     "output_type": "stream",
     "text": [
      "updated list ['apple', 'banana', 'cherry', 'orange']\n"
     ]
    }
   ],
   "source": [
    "# list fruits\n",
    "fruits = [ \"apple\" , \"banana\" ,  \"cherry\" ]\n",
    "fruits.append(\"orange\")\n",
    "print(\"updated list\", fruits)"
   ]
  },
  {
   "cell_type": "markdown",
   "id": "3532f837-22d5-4b94-8b1b-fb2b0c5794fd",
   "metadata": {},
   "source": [
    "4. Write a Python function named check_even that takes an integer as an argument and returns True if the number\n",
    "is even and False if it is odd. Test the function with the number 10."
   ]
  },
  {
   "cell_type": "code",
   "execution_count": 23,
   "id": "14284b14-9763-430c-a86f-174405e8f349",
   "metadata": {},
   "outputs": [
    {
     "name": "stdout",
     "output_type": "stream",
     "text": [
      "Returned Value False\n"
     ]
    }
   ],
   "source": [
    "# function check_even\n",
    "def check_even(num):\n",
    "    if num%2==0:\n",
    "        return True\n",
    "    return False\n",
    "checkValue=check_even(10)\n",
    "print(\"Returned Value\",checkValue)"
   ]
  },
  {
   "cell_type": "markdown",
   "id": "436dd0a6-0d21-467a-9a36-e0a87925af5c",
   "metadata": {},
   "source": [
    "<img src=\"DaywiseyerCrimes.png\" width=\"800\" />"
   ]
  },
  {
   "cell_type": "code",
   "execution_count": null,
   "id": "7c3442f3-9ade-4dca-a109-bb0550d5672c",
   "metadata": {},
   "outputs": [],
   "source": []
  }
 ],
 "metadata": {
  "kernelspec": {
   "display_name": "Python 3 (ipykernel)",
   "language": "python",
   "name": "python3"
  },
  "language_info": {
   "codemirror_mode": {
    "name": "ipython",
    "version": 3
   },
   "file_extension": ".py",
   "mimetype": "text/x-python",
   "name": "python",
   "nbconvert_exporter": "python",
   "pygments_lexer": "ipython3",
   "version": "3.12.4"
  }
 },
 "nbformat": 4,
 "nbformat_minor": 5
}
